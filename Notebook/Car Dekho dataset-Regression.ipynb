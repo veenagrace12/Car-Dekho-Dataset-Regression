{
 "cells": [
  {
   "cell_type": "code",
   "execution_count": 1,
   "id": "94677608",
   "metadata": {},
   "outputs": [],
   "source": [
    "# import libraries\n",
    "\n",
    "import pandas as pd\n",
    "import numpy as np\n",
    "import matplotlib.pyplot as plt\n",
    "import seaborn as sns\n",
    "import warnings\n",
    "warnings.filterwarnings('ignore')"
   ]
  },
  {
   "cell_type": "markdown",
   "id": "4929d3c5",
   "metadata": {},
   "source": [
    "Importing Data"
   ]
  },
  {
   "cell_type": "code",
   "execution_count": 2,
   "id": "97d906a5",
   "metadata": {},
   "outputs": [],
   "source": [
    "data=pd.read_csv(\"Car-details-v3.csv\")"
   ]
  },
  {
   "cell_type": "markdown",
   "id": "296f958a",
   "metadata": {},
   "source": [
    "last five rows of data using tail()"
   ]
  },
  {
   "cell_type": "code",
   "execution_count": 3,
   "id": "e0b7d9ad",
   "metadata": {},
   "outputs": [
    {
     "data": {
      "text/html": [
       "<div>\n",
       "<style scoped>\n",
       "    .dataframe tbody tr th:only-of-type {\n",
       "        vertical-align: middle;\n",
       "    }\n",
       "\n",
       "    .dataframe tbody tr th {\n",
       "        vertical-align: top;\n",
       "    }\n",
       "\n",
       "    .dataframe thead th {\n",
       "        text-align: right;\n",
       "    }\n",
       "</style>\n",
       "<table border=\"1\" class=\"dataframe\">\n",
       "  <thead>\n",
       "    <tr style=\"text-align: right;\">\n",
       "      <th></th>\n",
       "      <th>name</th>\n",
       "      <th>year</th>\n",
       "      <th>selling_price</th>\n",
       "      <th>km_driven</th>\n",
       "      <th>fuel</th>\n",
       "      <th>seller_type</th>\n",
       "      <th>transmission</th>\n",
       "      <th>owner</th>\n",
       "      <th>mileage</th>\n",
       "      <th>engine</th>\n",
       "      <th>max_power</th>\n",
       "      <th>torque</th>\n",
       "      <th>seats</th>\n",
       "    </tr>\n",
       "  </thead>\n",
       "  <tbody>\n",
       "    <tr>\n",
       "      <th>8123</th>\n",
       "      <td>Hyundai i20 Magna</td>\n",
       "      <td>2013</td>\n",
       "      <td>320000</td>\n",
       "      <td>110000</td>\n",
       "      <td>Petrol</td>\n",
       "      <td>Individual</td>\n",
       "      <td>Manual</td>\n",
       "      <td>First Owner</td>\n",
       "      <td>18.5 kmpl</td>\n",
       "      <td>1197 CC</td>\n",
       "      <td>82.85 bhp</td>\n",
       "      <td>113.7Nm@ 4000rpm</td>\n",
       "      <td>5.0</td>\n",
       "    </tr>\n",
       "    <tr>\n",
       "      <th>8124</th>\n",
       "      <td>Hyundai Verna CRDi SX</td>\n",
       "      <td>2007</td>\n",
       "      <td>135000</td>\n",
       "      <td>119000</td>\n",
       "      <td>Diesel</td>\n",
       "      <td>Individual</td>\n",
       "      <td>Manual</td>\n",
       "      <td>Fourth &amp; Above Owner</td>\n",
       "      <td>16.8 kmpl</td>\n",
       "      <td>1493 CC</td>\n",
       "      <td>110 bhp</td>\n",
       "      <td>24@ 1,900-2,750(kgm@ rpm)</td>\n",
       "      <td>5.0</td>\n",
       "    </tr>\n",
       "    <tr>\n",
       "      <th>8125</th>\n",
       "      <td>Maruti Swift Dzire ZDi</td>\n",
       "      <td>2009</td>\n",
       "      <td>382000</td>\n",
       "      <td>120000</td>\n",
       "      <td>Diesel</td>\n",
       "      <td>Individual</td>\n",
       "      <td>Manual</td>\n",
       "      <td>First Owner</td>\n",
       "      <td>19.3 kmpl</td>\n",
       "      <td>1248 CC</td>\n",
       "      <td>73.9 bhp</td>\n",
       "      <td>190Nm@ 2000rpm</td>\n",
       "      <td>5.0</td>\n",
       "    </tr>\n",
       "    <tr>\n",
       "      <th>8126</th>\n",
       "      <td>Tata Indigo CR4</td>\n",
       "      <td>2013</td>\n",
       "      <td>290000</td>\n",
       "      <td>25000</td>\n",
       "      <td>Diesel</td>\n",
       "      <td>Individual</td>\n",
       "      <td>Manual</td>\n",
       "      <td>First Owner</td>\n",
       "      <td>23.57 kmpl</td>\n",
       "      <td>1396 CC</td>\n",
       "      <td>70 bhp</td>\n",
       "      <td>140Nm@ 1800-3000rpm</td>\n",
       "      <td>5.0</td>\n",
       "    </tr>\n",
       "    <tr>\n",
       "      <th>8127</th>\n",
       "      <td>Tata Indigo CR4</td>\n",
       "      <td>2013</td>\n",
       "      <td>290000</td>\n",
       "      <td>25000</td>\n",
       "      <td>Diesel</td>\n",
       "      <td>Individual</td>\n",
       "      <td>Manual</td>\n",
       "      <td>First Owner</td>\n",
       "      <td>23.57 kmpl</td>\n",
       "      <td>1396 CC</td>\n",
       "      <td>70 bhp</td>\n",
       "      <td>140Nm@ 1800-3000rpm</td>\n",
       "      <td>5.0</td>\n",
       "    </tr>\n",
       "  </tbody>\n",
       "</table>\n",
       "</div>"
      ],
      "text/plain": [
       "                        name  year  selling_price  km_driven    fuel  \\\n",
       "8123       Hyundai i20 Magna  2013         320000     110000  Petrol   \n",
       "8124   Hyundai Verna CRDi SX  2007         135000     119000  Diesel   \n",
       "8125  Maruti Swift Dzire ZDi  2009         382000     120000  Diesel   \n",
       "8126         Tata Indigo CR4  2013         290000      25000  Diesel   \n",
       "8127         Tata Indigo CR4  2013         290000      25000  Diesel   \n",
       "\n",
       "     seller_type transmission                 owner     mileage   engine  \\\n",
       "8123  Individual       Manual           First Owner   18.5 kmpl  1197 CC   \n",
       "8124  Individual       Manual  Fourth & Above Owner   16.8 kmpl  1493 CC   \n",
       "8125  Individual       Manual           First Owner   19.3 kmpl  1248 CC   \n",
       "8126  Individual       Manual           First Owner  23.57 kmpl  1396 CC   \n",
       "8127  Individual       Manual           First Owner  23.57 kmpl  1396 CC   \n",
       "\n",
       "      max_power                     torque  seats  \n",
       "8123  82.85 bhp           113.7Nm@ 4000rpm    5.0  \n",
       "8124    110 bhp  24@ 1,900-2,750(kgm@ rpm)    5.0  \n",
       "8125   73.9 bhp             190Nm@ 2000rpm    5.0  \n",
       "8126     70 bhp        140Nm@ 1800-3000rpm    5.0  \n",
       "8127     70 bhp        140Nm@ 1800-3000rpm    5.0  "
      ]
     },
     "execution_count": 3,
     "metadata": {},
     "output_type": "execute_result"
    }
   ],
   "source": [
    "data.tail()"
   ]
  },
  {
   "cell_type": "markdown",
   "id": "d203e414",
   "metadata": {},
   "source": [
    "Number of rows and columns"
   ]
  },
  {
   "cell_type": "code",
   "execution_count": 4,
   "id": "5aab7d00",
   "metadata": {},
   "outputs": [
    {
     "data": {
      "text/plain": [
       "(8128, 13)"
      ]
     },
     "execution_count": 4,
     "metadata": {},
     "output_type": "execute_result"
    }
   ],
   "source": [
    "data.shape"
   ]
  },
  {
   "cell_type": "markdown",
   "id": "41514219",
   "metadata": {},
   "source": [
    "Data Information"
   ]
  },
  {
   "cell_type": "code",
   "execution_count": 5,
   "id": "81e82eae",
   "metadata": {},
   "outputs": [
    {
     "name": "stdout",
     "output_type": "stream",
     "text": [
      "<class 'pandas.core.frame.DataFrame'>\n",
      "RangeIndex: 8128 entries, 0 to 8127\n",
      "Data columns (total 13 columns):\n",
      " #   Column         Non-Null Count  Dtype  \n",
      "---  ------         --------------  -----  \n",
      " 0   name           8128 non-null   object \n",
      " 1   year           8128 non-null   int64  \n",
      " 2   selling_price  8128 non-null   int64  \n",
      " 3   km_driven      8128 non-null   int64  \n",
      " 4   fuel           8128 non-null   object \n",
      " 5   seller_type    8128 non-null   object \n",
      " 6   transmission   8128 non-null   object \n",
      " 7   owner          8128 non-null   object \n",
      " 8   mileage        7907 non-null   object \n",
      " 9   engine         7907 non-null   object \n",
      " 10  max_power      7913 non-null   object \n",
      " 11  torque         7906 non-null   object \n",
      " 12  seats          7907 non-null   float64\n",
      "dtypes: float64(1), int64(3), object(9)\n",
      "memory usage: 539.8+ KB\n"
     ]
    }
   ],
   "source": [
    "data.info()"
   ]
  },
  {
   "cell_type": "code",
   "execution_count": 6,
   "id": "bd3de6cc",
   "metadata": {},
   "outputs": [
    {
     "data": {
      "text/plain": [
       "Index(['name', 'year', 'selling_price', 'km_driven', 'fuel', 'seller_type',\n",
       "       'transmission', 'owner', 'mileage', 'engine', 'max_power', 'torque',\n",
       "       'seats'],\n",
       "      dtype='object')"
      ]
     },
     "execution_count": 6,
     "metadata": {},
     "output_type": "execute_result"
    }
   ],
   "source": [
    "data.columns"
   ]
  },
  {
   "cell_type": "markdown",
   "id": "f55fa54f",
   "metadata": {},
   "source": [
    "Removing unwanted strings in numerical columns"
   ]
  },
  {
   "cell_type": "code",
   "execution_count": 7,
   "id": "407c8437",
   "metadata": {},
   "outputs": [],
   "source": [
    "data['mileage'] = data['mileage'].str.replace('kmpl', '')"
   ]
  },
  {
   "cell_type": "code",
   "execution_count": 8,
   "id": "311f3066",
   "metadata": {},
   "outputs": [],
   "source": [
    "data['mileage'] = data['mileage'].str.replace('km/kg','')"
   ]
  },
  {
   "cell_type": "code",
   "execution_count": 9,
   "id": "c23bb0b1",
   "metadata": {},
   "outputs": [],
   "source": [
    "data['engine'] = data['engine'].str.replace('CC', '')"
   ]
  },
  {
   "cell_type": "code",
   "execution_count": 10,
   "id": "e1683a33",
   "metadata": {},
   "outputs": [],
   "source": [
    "data['max_power'] = data['max_power'].str.replace('bhp', '')"
   ]
  },
  {
   "cell_type": "markdown",
   "id": "206940b4",
   "metadata": {},
   "source": [
    "Checking null values"
   ]
  },
  {
   "cell_type": "code",
   "execution_count": 11,
   "id": "7a18bab5",
   "metadata": {},
   "outputs": [
    {
     "data": {
      "text/plain": [
       "name               0\n",
       "year               0\n",
       "selling_price      0\n",
       "km_driven          0\n",
       "fuel               0\n",
       "seller_type        0\n",
       "transmission       0\n",
       "owner              0\n",
       "mileage          221\n",
       "engine           221\n",
       "max_power        215\n",
       "torque           222\n",
       "seats            221\n",
       "dtype: int64"
      ]
     },
     "execution_count": 11,
     "metadata": {},
     "output_type": "execute_result"
    }
   ],
   "source": [
    "data.isnull().sum()"
   ]
  },
  {
   "cell_type": "markdown",
   "id": "799e6695",
   "metadata": {},
   "source": [
    "Remove and replacing the null values "
   ]
  },
  {
   "cell_type": "code",
   "execution_count": 12,
   "id": "e31ba07d",
   "metadata": {},
   "outputs": [],
   "source": [
    "data['mileage'].fillna(method='ffill', inplace=True)"
   ]
  },
  {
   "cell_type": "code",
   "execution_count": 13,
   "id": "773d3ae0",
   "metadata": {},
   "outputs": [],
   "source": [
    "data['engine'].fillna(method='ffill', inplace=True)"
   ]
  },
  {
   "cell_type": "code",
   "execution_count": 14,
   "id": "c0b538ca",
   "metadata": {},
   "outputs": [],
   "source": [
    "data['max_power'].fillna(method='ffill', inplace=True)"
   ]
  },
  {
   "cell_type": "code",
   "execution_count": 15,
   "id": "1180bb46",
   "metadata": {},
   "outputs": [],
   "source": [
    "data['max_power'] = pd.to_numeric(data['max_power'], errors='coerce')"
   ]
  },
  {
   "cell_type": "code",
   "execution_count": 16,
   "id": "79eb5af7",
   "metadata": {},
   "outputs": [
    {
     "name": "stdout",
     "output_type": "stream",
     "text": [
      "0    190Nm@ 2000rpm\n",
      "dtype: object\n"
     ]
    }
   ],
   "source": [
    "print(data['torque'].mode())\n"
   ]
  },
  {
   "cell_type": "code",
   "execution_count": 17,
   "id": "4b7bc9bf",
   "metadata": {},
   "outputs": [],
   "source": [
    "data['torque'].fillna(data['torque'].mode()[0], inplace=True)\n"
   ]
  },
  {
   "cell_type": "code",
   "execution_count": 18,
   "id": "c27f4d31",
   "metadata": {},
   "outputs": [],
   "source": [
    "data['seats'].fillna(data['seats'].median(), inplace=True)"
   ]
  },
  {
   "cell_type": "markdown",
   "id": "6689ebec",
   "metadata": {},
   "source": [
    "Converting object into int and float "
   ]
  },
  {
   "cell_type": "code",
   "execution_count": 19,
   "id": "02ed5875",
   "metadata": {},
   "outputs": [],
   "source": [
    "data['mileage'] = data['mileage'].astype(str).astype(float)"
   ]
  },
  {
   "cell_type": "code",
   "execution_count": 20,
   "id": "81bc4b30",
   "metadata": {},
   "outputs": [],
   "source": [
    "data['engine'] = data['engine'].astype(str).astype(int)"
   ]
  },
  {
   "cell_type": "code",
   "execution_count": 21,
   "id": "83d6fa16",
   "metadata": {},
   "outputs": [],
   "source": [
    "data['max_power'] = data['max_power'].astype(str).astype(float)"
   ]
  },
  {
   "cell_type": "markdown",
   "id": "cdf54ff2",
   "metadata": {},
   "source": [
    "Rename the column names"
   ]
  },
  {
   "cell_type": "code",
   "execution_count": 22,
   "id": "a60beb91",
   "metadata": {},
   "outputs": [],
   "source": [
    "data=data.rename(columns={'mileage':'mileage(kmpl)','engine':'engine(CC)','max_power':'max_power(bhp)'})"
   ]
  },
  {
   "cell_type": "code",
   "execution_count": 23,
   "id": "12611603",
   "metadata": {},
   "outputs": [
    {
     "name": "stdout",
     "output_type": "stream",
     "text": [
      "<class 'pandas.core.frame.DataFrame'>\n",
      "RangeIndex: 8128 entries, 0 to 8127\n",
      "Data columns (total 13 columns):\n",
      " #   Column          Non-Null Count  Dtype  \n",
      "---  ------          --------------  -----  \n",
      " 0   name            8128 non-null   object \n",
      " 1   year            8128 non-null   int64  \n",
      " 2   selling_price   8128 non-null   int64  \n",
      " 3   km_driven       8128 non-null   int64  \n",
      " 4   fuel            8128 non-null   object \n",
      " 5   seller_type     8128 non-null   object \n",
      " 6   transmission    8128 non-null   object \n",
      " 7   owner           8128 non-null   object \n",
      " 8   mileage(kmpl)   8128 non-null   float64\n",
      " 9   engine(CC)      8128 non-null   int32  \n",
      " 10  max_power(bhp)  8127 non-null   float64\n",
      " 11  torque          8128 non-null   object \n",
      " 12  seats           8128 non-null   float64\n",
      "dtypes: float64(3), int32(1), int64(3), object(6)\n",
      "memory usage: 603.3+ KB\n"
     ]
    }
   ],
   "source": [
    "data.info()"
   ]
  },
  {
   "cell_type": "code",
   "execution_count": 24,
   "id": "4f4398a2",
   "metadata": {},
   "outputs": [
    {
     "data": {
      "text/plain": [
       "name              0\n",
       "year              0\n",
       "selling_price     0\n",
       "km_driven         0\n",
       "fuel              0\n",
       "seller_type       0\n",
       "transmission      0\n",
       "owner             0\n",
       "mileage(kmpl)     0\n",
       "engine(CC)        0\n",
       "max_power(bhp)    1\n",
       "torque            0\n",
       "seats             0\n",
       "dtype: int64"
      ]
     },
     "execution_count": 24,
     "metadata": {},
     "output_type": "execute_result"
    }
   ],
   "source": [
    "data.isnull().sum()"
   ]
  },
  {
   "cell_type": "code",
   "execution_count": 25,
   "id": "4770805c",
   "metadata": {},
   "outputs": [],
   "source": [
    "data = data.dropna(axis = 0, how ='any')\n"
   ]
  },
  {
   "cell_type": "code",
   "execution_count": 26,
   "id": "ca218aa0",
   "metadata": {},
   "outputs": [],
   "source": [
    "cars=data.copy()"
   ]
  },
  {
   "cell_type": "code",
   "execution_count": 27,
   "id": "72e2df8a",
   "metadata": {},
   "outputs": [
    {
     "data": {
      "text/plain": [
       "name              0\n",
       "year              0\n",
       "selling_price     0\n",
       "km_driven         0\n",
       "fuel              0\n",
       "seller_type       0\n",
       "transmission      0\n",
       "owner             0\n",
       "mileage(kmpl)     0\n",
       "engine(CC)        0\n",
       "max_power(bhp)    0\n",
       "torque            0\n",
       "seats             0\n",
       "dtype: int64"
      ]
     },
     "execution_count": 27,
     "metadata": {},
     "output_type": "execute_result"
    }
   ],
   "source": [
    "data.isnull().sum()\n"
   ]
  },
  {
   "cell_type": "markdown",
   "id": "58d12cca",
   "metadata": {},
   "source": [
    "##### Statistical distributions"
   ]
  },
  {
   "cell_type": "code",
   "execution_count": 28,
   "id": "4f02b18f",
   "metadata": {},
   "outputs": [
    {
     "data": {
      "text/html": [
       "<div>\n",
       "<style scoped>\n",
       "    .dataframe tbody tr th:only-of-type {\n",
       "        vertical-align: middle;\n",
       "    }\n",
       "\n",
       "    .dataframe tbody tr th {\n",
       "        vertical-align: top;\n",
       "    }\n",
       "\n",
       "    .dataframe thead th {\n",
       "        text-align: right;\n",
       "    }\n",
       "</style>\n",
       "<table border=\"1\" class=\"dataframe\">\n",
       "  <thead>\n",
       "    <tr style=\"text-align: right;\">\n",
       "      <th></th>\n",
       "      <th>year</th>\n",
       "      <th>selling_price</th>\n",
       "      <th>km_driven</th>\n",
       "      <th>mileage(kmpl)</th>\n",
       "      <th>engine(CC)</th>\n",
       "      <th>max_power(bhp)</th>\n",
       "      <th>seats</th>\n",
       "    </tr>\n",
       "  </thead>\n",
       "  <tbody>\n",
       "    <tr>\n",
       "      <th>count</th>\n",
       "      <td>8127.000000</td>\n",
       "      <td>8.127000e+03</td>\n",
       "      <td>8.127000e+03</td>\n",
       "      <td>8127.000000</td>\n",
       "      <td>8127.000000</td>\n",
       "      <td>8127.000000</td>\n",
       "      <td>8127.000000</td>\n",
       "    </tr>\n",
       "    <tr>\n",
       "      <th>mean</th>\n",
       "      <td>2013.805709</td>\n",
       "      <td>6.383405e+05</td>\n",
       "      <td>6.981580e+04</td>\n",
       "      <td>19.405778</td>\n",
       "      <td>1458.110127</td>\n",
       "      <td>91.333944</td>\n",
       "      <td>5.405070</td>\n",
       "    </tr>\n",
       "    <tr>\n",
       "      <th>std</th>\n",
       "      <td>4.041597</td>\n",
       "      <td>8.062792e+05</td>\n",
       "      <td>5.655304e+04</td>\n",
       "      <td>4.047554</td>\n",
       "      <td>504.383435</td>\n",
       "      <td>35.745389</td>\n",
       "      <td>0.948496</td>\n",
       "    </tr>\n",
       "    <tr>\n",
       "      <th>min</th>\n",
       "      <td>1983.000000</td>\n",
       "      <td>2.999900e+04</td>\n",
       "      <td>1.000000e+00</td>\n",
       "      <td>0.000000</td>\n",
       "      <td>624.000000</td>\n",
       "      <td>0.000000</td>\n",
       "      <td>2.000000</td>\n",
       "    </tr>\n",
       "    <tr>\n",
       "      <th>25%</th>\n",
       "      <td>2011.000000</td>\n",
       "      <td>2.549990e+05</td>\n",
       "      <td>3.500000e+04</td>\n",
       "      <td>16.780000</td>\n",
       "      <td>1197.000000</td>\n",
       "      <td>68.050000</td>\n",
       "      <td>5.000000</td>\n",
       "    </tr>\n",
       "    <tr>\n",
       "      <th>50%</th>\n",
       "      <td>2015.000000</td>\n",
       "      <td>4.500000e+05</td>\n",
       "      <td>6.000000e+04</td>\n",
       "      <td>19.300000</td>\n",
       "      <td>1248.000000</td>\n",
       "      <td>82.000000</td>\n",
       "      <td>5.000000</td>\n",
       "    </tr>\n",
       "    <tr>\n",
       "      <th>75%</th>\n",
       "      <td>2017.000000</td>\n",
       "      <td>6.750000e+05</td>\n",
       "      <td>9.800000e+04</td>\n",
       "      <td>22.320000</td>\n",
       "      <td>1582.000000</td>\n",
       "      <td>102.000000</td>\n",
       "      <td>5.000000</td>\n",
       "    </tr>\n",
       "    <tr>\n",
       "      <th>max</th>\n",
       "      <td>2020.000000</td>\n",
       "      <td>1.000000e+07</td>\n",
       "      <td>2.360457e+06</td>\n",
       "      <td>42.000000</td>\n",
       "      <td>3604.000000</td>\n",
       "      <td>400.000000</td>\n",
       "      <td>14.000000</td>\n",
       "    </tr>\n",
       "  </tbody>\n",
       "</table>\n",
       "</div>"
      ],
      "text/plain": [
       "              year  selling_price     km_driven  mileage(kmpl)   engine(CC)  \\\n",
       "count  8127.000000   8.127000e+03  8.127000e+03    8127.000000  8127.000000   \n",
       "mean   2013.805709   6.383405e+05  6.981580e+04      19.405778  1458.110127   \n",
       "std       4.041597   8.062792e+05  5.655304e+04       4.047554   504.383435   \n",
       "min    1983.000000   2.999900e+04  1.000000e+00       0.000000   624.000000   \n",
       "25%    2011.000000   2.549990e+05  3.500000e+04      16.780000  1197.000000   \n",
       "50%    2015.000000   4.500000e+05  6.000000e+04      19.300000  1248.000000   \n",
       "75%    2017.000000   6.750000e+05  9.800000e+04      22.320000  1582.000000   \n",
       "max    2020.000000   1.000000e+07  2.360457e+06      42.000000  3604.000000   \n",
       "\n",
       "       max_power(bhp)        seats  \n",
       "count     8127.000000  8127.000000  \n",
       "mean        91.333944     5.405070  \n",
       "std         35.745389     0.948496  \n",
       "min          0.000000     2.000000  \n",
       "25%         68.050000     5.000000  \n",
       "50%         82.000000     5.000000  \n",
       "75%        102.000000     5.000000  \n",
       "max        400.000000    14.000000  "
      ]
     },
     "execution_count": 28,
     "metadata": {},
     "output_type": "execute_result"
    }
   ],
   "source": [
    "# statistical measures about the data\n",
    "data.describe()"
   ]
  },
  {
   "cell_type": "code",
   "execution_count": 29,
   "id": "ba77111c",
   "metadata": {},
   "outputs": [
    {
     "data": {
      "text/html": [
       "<div>\n",
       "<style scoped>\n",
       "    .dataframe tbody tr th:only-of-type {\n",
       "        vertical-align: middle;\n",
       "    }\n",
       "\n",
       "    .dataframe tbody tr th {\n",
       "        vertical-align: top;\n",
       "    }\n",
       "\n",
       "    .dataframe thead th {\n",
       "        text-align: right;\n",
       "    }\n",
       "</style>\n",
       "<table border=\"1\" class=\"dataframe\">\n",
       "  <thead>\n",
       "    <tr style=\"text-align: right;\">\n",
       "      <th></th>\n",
       "      <th>name</th>\n",
       "      <th>year</th>\n",
       "      <th>selling_price</th>\n",
       "      <th>km_driven</th>\n",
       "      <th>fuel</th>\n",
       "      <th>seller_type</th>\n",
       "      <th>transmission</th>\n",
       "      <th>owner</th>\n",
       "      <th>mileage(kmpl)</th>\n",
       "      <th>engine(CC)</th>\n",
       "      <th>max_power(bhp)</th>\n",
       "      <th>torque</th>\n",
       "      <th>seats</th>\n",
       "    </tr>\n",
       "  </thead>\n",
       "  <tbody>\n",
       "    <tr>\n",
       "      <th>0</th>\n",
       "      <td>Maruti Swift Dzire VDI</td>\n",
       "      <td>2014</td>\n",
       "      <td>450000</td>\n",
       "      <td>145500</td>\n",
       "      <td>Diesel</td>\n",
       "      <td>Individual</td>\n",
       "      <td>Manual</td>\n",
       "      <td>First Owner</td>\n",
       "      <td>23.40</td>\n",
       "      <td>1248</td>\n",
       "      <td>74.00</td>\n",
       "      <td>190Nm@ 2000rpm</td>\n",
       "      <td>5.0</td>\n",
       "    </tr>\n",
       "    <tr>\n",
       "      <th>1</th>\n",
       "      <td>Skoda Rapid 1.5 TDI Ambition</td>\n",
       "      <td>2014</td>\n",
       "      <td>370000</td>\n",
       "      <td>120000</td>\n",
       "      <td>Diesel</td>\n",
       "      <td>Individual</td>\n",
       "      <td>Manual</td>\n",
       "      <td>Second Owner</td>\n",
       "      <td>21.14</td>\n",
       "      <td>1498</td>\n",
       "      <td>103.52</td>\n",
       "      <td>250Nm@ 1500-2500rpm</td>\n",
       "      <td>5.0</td>\n",
       "    </tr>\n",
       "    <tr>\n",
       "      <th>2</th>\n",
       "      <td>Honda City 2017-2020 EXi</td>\n",
       "      <td>2006</td>\n",
       "      <td>158000</td>\n",
       "      <td>140000</td>\n",
       "      <td>Petrol</td>\n",
       "      <td>Individual</td>\n",
       "      <td>Manual</td>\n",
       "      <td>Third Owner</td>\n",
       "      <td>17.70</td>\n",
       "      <td>1497</td>\n",
       "      <td>78.00</td>\n",
       "      <td>12.7@ 2,700(kgm@ rpm)</td>\n",
       "      <td>5.0</td>\n",
       "    </tr>\n",
       "    <tr>\n",
       "      <th>3</th>\n",
       "      <td>Hyundai i20 Sportz Diesel</td>\n",
       "      <td>2010</td>\n",
       "      <td>225000</td>\n",
       "      <td>127000</td>\n",
       "      <td>Diesel</td>\n",
       "      <td>Individual</td>\n",
       "      <td>Manual</td>\n",
       "      <td>First Owner</td>\n",
       "      <td>23.00</td>\n",
       "      <td>1396</td>\n",
       "      <td>90.00</td>\n",
       "      <td>22.4 kgm at 1750-2750rpm</td>\n",
       "      <td>5.0</td>\n",
       "    </tr>\n",
       "    <tr>\n",
       "      <th>4</th>\n",
       "      <td>Maruti Swift VXI BSIII</td>\n",
       "      <td>2007</td>\n",
       "      <td>130000</td>\n",
       "      <td>120000</td>\n",
       "      <td>Petrol</td>\n",
       "      <td>Individual</td>\n",
       "      <td>Manual</td>\n",
       "      <td>First Owner</td>\n",
       "      <td>16.10</td>\n",
       "      <td>1298</td>\n",
       "      <td>88.20</td>\n",
       "      <td>11.5@ 4,500(kgm@ rpm)</td>\n",
       "      <td>5.0</td>\n",
       "    </tr>\n",
       "  </tbody>\n",
       "</table>\n",
       "</div>"
      ],
      "text/plain": [
       "                           name  year  selling_price  km_driven    fuel  \\\n",
       "0        Maruti Swift Dzire VDI  2014         450000     145500  Diesel   \n",
       "1  Skoda Rapid 1.5 TDI Ambition  2014         370000     120000  Diesel   \n",
       "2      Honda City 2017-2020 EXi  2006         158000     140000  Petrol   \n",
       "3     Hyundai i20 Sportz Diesel  2010         225000     127000  Diesel   \n",
       "4        Maruti Swift VXI BSIII  2007         130000     120000  Petrol   \n",
       "\n",
       "  seller_type transmission         owner  mileage(kmpl)  engine(CC)  \\\n",
       "0  Individual       Manual   First Owner          23.40        1248   \n",
       "1  Individual       Manual  Second Owner          21.14        1498   \n",
       "2  Individual       Manual   Third Owner          17.70        1497   \n",
       "3  Individual       Manual   First Owner          23.00        1396   \n",
       "4  Individual       Manual   First Owner          16.10        1298   \n",
       "\n",
       "   max_power(bhp)                    torque  seats  \n",
       "0           74.00            190Nm@ 2000rpm    5.0  \n",
       "1          103.52       250Nm@ 1500-2500rpm    5.0  \n",
       "2           78.00     12.7@ 2,700(kgm@ rpm)    5.0  \n",
       "3           90.00  22.4 kgm at 1750-2750rpm    5.0  \n",
       "4           88.20     11.5@ 4,500(kgm@ rpm)    5.0  "
      ]
     },
     "execution_count": 29,
     "metadata": {},
     "output_type": "execute_result"
    }
   ],
   "source": [
    "data.head()"
   ]
  },
  {
   "cell_type": "code",
   "execution_count": 30,
   "id": "ab24b84a",
   "metadata": {},
   "outputs": [],
   "source": [
    "data['name']=data['name'].str.split(' ').str.slice(0,3).str.join(' ')"
   ]
  },
  {
   "cell_type": "code",
   "execution_count": 31,
   "id": "f8b9afa9",
   "metadata": {},
   "outputs": [
    {
     "data": {
      "text/html": [
       "<div>\n",
       "<style scoped>\n",
       "    .dataframe tbody tr th:only-of-type {\n",
       "        vertical-align: middle;\n",
       "    }\n",
       "\n",
       "    .dataframe tbody tr th {\n",
       "        vertical-align: top;\n",
       "    }\n",
       "\n",
       "    .dataframe thead th {\n",
       "        text-align: right;\n",
       "    }\n",
       "</style>\n",
       "<table border=\"1\" class=\"dataframe\">\n",
       "  <thead>\n",
       "    <tr style=\"text-align: right;\">\n",
       "      <th></th>\n",
       "      <th>name</th>\n",
       "      <th>year</th>\n",
       "      <th>selling_price</th>\n",
       "      <th>km_driven</th>\n",
       "      <th>fuel</th>\n",
       "      <th>seller_type</th>\n",
       "      <th>transmission</th>\n",
       "      <th>owner</th>\n",
       "      <th>mileage(kmpl)</th>\n",
       "      <th>engine(CC)</th>\n",
       "      <th>max_power(bhp)</th>\n",
       "      <th>torque</th>\n",
       "      <th>seats</th>\n",
       "    </tr>\n",
       "  </thead>\n",
       "  <tbody>\n",
       "    <tr>\n",
       "      <th>0</th>\n",
       "      <td>Maruti Swift Dzire</td>\n",
       "      <td>2014</td>\n",
       "      <td>450000</td>\n",
       "      <td>145500</td>\n",
       "      <td>Diesel</td>\n",
       "      <td>Individual</td>\n",
       "      <td>Manual</td>\n",
       "      <td>First Owner</td>\n",
       "      <td>23.40</td>\n",
       "      <td>1248</td>\n",
       "      <td>74.00</td>\n",
       "      <td>190Nm@ 2000rpm</td>\n",
       "      <td>5.0</td>\n",
       "    </tr>\n",
       "    <tr>\n",
       "      <th>1</th>\n",
       "      <td>Skoda Rapid 1.5</td>\n",
       "      <td>2014</td>\n",
       "      <td>370000</td>\n",
       "      <td>120000</td>\n",
       "      <td>Diesel</td>\n",
       "      <td>Individual</td>\n",
       "      <td>Manual</td>\n",
       "      <td>Second Owner</td>\n",
       "      <td>21.14</td>\n",
       "      <td>1498</td>\n",
       "      <td>103.52</td>\n",
       "      <td>250Nm@ 1500-2500rpm</td>\n",
       "      <td>5.0</td>\n",
       "    </tr>\n",
       "  </tbody>\n",
       "</table>\n",
       "</div>"
      ],
      "text/plain": [
       "                 name  year  selling_price  km_driven    fuel seller_type  \\\n",
       "0  Maruti Swift Dzire  2014         450000     145500  Diesel  Individual   \n",
       "1     Skoda Rapid 1.5  2014         370000     120000  Diesel  Individual   \n",
       "\n",
       "  transmission         owner  mileage(kmpl)  engine(CC)  max_power(bhp)  \\\n",
       "0       Manual   First Owner          23.40        1248           74.00   \n",
       "1       Manual  Second Owner          21.14        1498          103.52   \n",
       "\n",
       "                torque  seats  \n",
       "0       190Nm@ 2000rpm    5.0  \n",
       "1  250Nm@ 1500-2500rpm    5.0  "
      ]
     },
     "execution_count": 31,
     "metadata": {},
     "output_type": "execute_result"
    }
   ],
   "source": [
    "data.head(2)"
   ]
  },
  {
   "cell_type": "code",
   "execution_count": 32,
   "id": "0565b930",
   "metadata": {},
   "outputs": [],
   "source": [
    "data['model']=data['name'].str.split().str.get(1)\n"
   ]
  },
  {
   "cell_type": "code",
   "execution_count": 33,
   "id": "0c9f923c",
   "metadata": {},
   "outputs": [],
   "source": [
    "data['name']=data['name'].str.split().str.get(0)\n"
   ]
  },
  {
   "cell_type": "code",
   "execution_count": 34,
   "id": "55ab987f",
   "metadata": {},
   "outputs": [
    {
     "data": {
      "text/html": [
       "<div>\n",
       "<style scoped>\n",
       "    .dataframe tbody tr th:only-of-type {\n",
       "        vertical-align: middle;\n",
       "    }\n",
       "\n",
       "    .dataframe tbody tr th {\n",
       "        vertical-align: top;\n",
       "    }\n",
       "\n",
       "    .dataframe thead th {\n",
       "        text-align: right;\n",
       "    }\n",
       "</style>\n",
       "<table border=\"1\" class=\"dataframe\">\n",
       "  <thead>\n",
       "    <tr style=\"text-align: right;\">\n",
       "      <th></th>\n",
       "      <th>name</th>\n",
       "      <th>year</th>\n",
       "      <th>selling_price</th>\n",
       "      <th>km_driven</th>\n",
       "      <th>fuel</th>\n",
       "      <th>seller_type</th>\n",
       "      <th>transmission</th>\n",
       "      <th>owner</th>\n",
       "      <th>mileage(kmpl)</th>\n",
       "      <th>engine(CC)</th>\n",
       "      <th>max_power(bhp)</th>\n",
       "      <th>torque</th>\n",
       "      <th>seats</th>\n",
       "      <th>model</th>\n",
       "    </tr>\n",
       "  </thead>\n",
       "  <tbody>\n",
       "    <tr>\n",
       "      <th>0</th>\n",
       "      <td>Maruti</td>\n",
       "      <td>2014</td>\n",
       "      <td>450000</td>\n",
       "      <td>145500</td>\n",
       "      <td>Diesel</td>\n",
       "      <td>Individual</td>\n",
       "      <td>Manual</td>\n",
       "      <td>First Owner</td>\n",
       "      <td>23.40</td>\n",
       "      <td>1248</td>\n",
       "      <td>74.00</td>\n",
       "      <td>190Nm@ 2000rpm</td>\n",
       "      <td>5.0</td>\n",
       "      <td>Swift</td>\n",
       "    </tr>\n",
       "    <tr>\n",
       "      <th>1</th>\n",
       "      <td>Skoda</td>\n",
       "      <td>2014</td>\n",
       "      <td>370000</td>\n",
       "      <td>120000</td>\n",
       "      <td>Diesel</td>\n",
       "      <td>Individual</td>\n",
       "      <td>Manual</td>\n",
       "      <td>Second Owner</td>\n",
       "      <td>21.14</td>\n",
       "      <td>1498</td>\n",
       "      <td>103.52</td>\n",
       "      <td>250Nm@ 1500-2500rpm</td>\n",
       "      <td>5.0</td>\n",
       "      <td>Rapid</td>\n",
       "    </tr>\n",
       "    <tr>\n",
       "      <th>2</th>\n",
       "      <td>Honda</td>\n",
       "      <td>2006</td>\n",
       "      <td>158000</td>\n",
       "      <td>140000</td>\n",
       "      <td>Petrol</td>\n",
       "      <td>Individual</td>\n",
       "      <td>Manual</td>\n",
       "      <td>Third Owner</td>\n",
       "      <td>17.70</td>\n",
       "      <td>1497</td>\n",
       "      <td>78.00</td>\n",
       "      <td>12.7@ 2,700(kgm@ rpm)</td>\n",
       "      <td>5.0</td>\n",
       "      <td>City</td>\n",
       "    </tr>\n",
       "    <tr>\n",
       "      <th>3</th>\n",
       "      <td>Hyundai</td>\n",
       "      <td>2010</td>\n",
       "      <td>225000</td>\n",
       "      <td>127000</td>\n",
       "      <td>Diesel</td>\n",
       "      <td>Individual</td>\n",
       "      <td>Manual</td>\n",
       "      <td>First Owner</td>\n",
       "      <td>23.00</td>\n",
       "      <td>1396</td>\n",
       "      <td>90.00</td>\n",
       "      <td>22.4 kgm at 1750-2750rpm</td>\n",
       "      <td>5.0</td>\n",
       "      <td>i20</td>\n",
       "    </tr>\n",
       "    <tr>\n",
       "      <th>4</th>\n",
       "      <td>Maruti</td>\n",
       "      <td>2007</td>\n",
       "      <td>130000</td>\n",
       "      <td>120000</td>\n",
       "      <td>Petrol</td>\n",
       "      <td>Individual</td>\n",
       "      <td>Manual</td>\n",
       "      <td>First Owner</td>\n",
       "      <td>16.10</td>\n",
       "      <td>1298</td>\n",
       "      <td>88.20</td>\n",
       "      <td>11.5@ 4,500(kgm@ rpm)</td>\n",
       "      <td>5.0</td>\n",
       "      <td>Swift</td>\n",
       "    </tr>\n",
       "  </tbody>\n",
       "</table>\n",
       "</div>"
      ],
      "text/plain": [
       "      name  year  selling_price  km_driven    fuel seller_type transmission  \\\n",
       "0   Maruti  2014         450000     145500  Diesel  Individual       Manual   \n",
       "1    Skoda  2014         370000     120000  Diesel  Individual       Manual   \n",
       "2    Honda  2006         158000     140000  Petrol  Individual       Manual   \n",
       "3  Hyundai  2010         225000     127000  Diesel  Individual       Manual   \n",
       "4   Maruti  2007         130000     120000  Petrol  Individual       Manual   \n",
       "\n",
       "          owner  mileage(kmpl)  engine(CC)  max_power(bhp)  \\\n",
       "0   First Owner          23.40        1248           74.00   \n",
       "1  Second Owner          21.14        1498          103.52   \n",
       "2   Third Owner          17.70        1497           78.00   \n",
       "3   First Owner          23.00        1396           90.00   \n",
       "4   First Owner          16.10        1298           88.20   \n",
       "\n",
       "                     torque  seats  model  \n",
       "0            190Nm@ 2000rpm    5.0  Swift  \n",
       "1       250Nm@ 1500-2500rpm    5.0  Rapid  \n",
       "2     12.7@ 2,700(kgm@ rpm)    5.0   City  \n",
       "3  22.4 kgm at 1750-2750rpm    5.0    i20  \n",
       "4     11.5@ 4,500(kgm@ rpm)    5.0  Swift  "
      ]
     },
     "execution_count": 34,
     "metadata": {},
     "output_type": "execute_result"
    }
   ],
   "source": [
    "data.head()"
   ]
  },
  {
   "cell_type": "code",
   "execution_count": 35,
   "id": "af6ac820",
   "metadata": {},
   "outputs": [],
   "source": [
    "data.to_csv('cleaned cardekho.csv')\n"
   ]
  },
  {
   "cell_type": "code",
   "execution_count": 36,
   "id": "20605238",
   "metadata": {},
   "outputs": [
    {
     "name": "stdout",
     "output_type": "stream",
     "text": [
      "Diesel    4402\n",
      "Petrol    3631\n",
      "CNG         56\n",
      "LPG         38\n",
      "Name: fuel, dtype: int64\n",
      "Individual          6765\n",
      "Dealer              1126\n",
      "Trustmark Dealer     236\n",
      "Name: seller_type, dtype: int64\n",
      "Manual       7077\n",
      "Automatic    1050\n",
      "Name: transmission, dtype: int64\n",
      "First Owner             5289\n",
      "Second Owner            2104\n",
      "Third Owner              555\n",
      "Fourth & Above Owner     174\n",
      "Test Drive Car             5\n",
      "Name: owner, dtype: int64\n",
      "190Nm@ 2000rpm             751\n",
      "200Nm@ 1750rpm             445\n",
      "90Nm@ 3500rpm              405\n",
      "113Nm@ 4200rpm             223\n",
      "114Nm@ 4000rpm             171\n",
      "                          ... \n",
      "128Nm@ 3100rpm               1\n",
      "72.9Nm@ 2250rpm              1\n",
      "155 Nm at 1600-2800 rpm      1\n",
      "510Nm@ 1600-2800rpm          1\n",
      "96  Nm at 3000  rpm          1\n",
      "Name: torque, Length: 441, dtype: int64\n"
     ]
    }
   ],
   "source": [
    "col_names=['fuel','seller_type','transmission','owner','torque']\n",
    "for col in col_names:\n",
    "    print(data[col].value_counts())"
   ]
  },
  {
   "cell_type": "code",
   "execution_count": 37,
   "id": "38ed77f7",
   "metadata": {},
   "outputs": [],
   "source": [
    "df=data.copy()\n"
   ]
  },
  {
   "cell_type": "markdown",
   "id": "16303a71",
   "metadata": {},
   "source": [
    "# convert categorical data into numerical data\n"
   ]
  },
  {
   "cell_type": "code",
   "execution_count": 38,
   "id": "71ccfba2",
   "metadata": {},
   "outputs": [],
   "source": [
    "from sklearn.preprocessing import OrdinalEncoder\n",
    "ord_enc = OrdinalEncoder()\n",
    "df[\"fuel\"] = ord_enc.fit_transform(df[[\"fuel\"]])\n",
    "df[\"seller_type\"] = ord_enc.fit_transform(df[[\"seller_type\"]])\n",
    "df[\"transmission\"] = ord_enc.fit_transform(df[[\"transmission\"]])\n",
    "df[\"owner\"] = ord_enc.fit_transform(df[[\"owner\"]])\n",
    "df[\"torque\"] = ord_enc.fit_transform(df[[\"torque\"]])\n"
   ]
  },
  {
   "cell_type": "code",
   "execution_count": 39,
   "id": "110cc8e4",
   "metadata": {},
   "outputs": [
    {
     "data": {
      "text/html": [
       "<div>\n",
       "<style scoped>\n",
       "    .dataframe tbody tr th:only-of-type {\n",
       "        vertical-align: middle;\n",
       "    }\n",
       "\n",
       "    .dataframe tbody tr th {\n",
       "        vertical-align: top;\n",
       "    }\n",
       "\n",
       "    .dataframe thead th {\n",
       "        text-align: right;\n",
       "    }\n",
       "</style>\n",
       "<table border=\"1\" class=\"dataframe\">\n",
       "  <thead>\n",
       "    <tr style=\"text-align: right;\">\n",
       "      <th></th>\n",
       "      <th>name</th>\n",
       "      <th>year</th>\n",
       "      <th>selling_price</th>\n",
       "      <th>km_driven</th>\n",
       "      <th>fuel</th>\n",
       "      <th>seller_type</th>\n",
       "      <th>transmission</th>\n",
       "      <th>owner</th>\n",
       "      <th>mileage(kmpl)</th>\n",
       "      <th>engine(CC)</th>\n",
       "      <th>max_power(bhp)</th>\n",
       "      <th>torque</th>\n",
       "      <th>seats</th>\n",
       "      <th>model</th>\n",
       "    </tr>\n",
       "  </thead>\n",
       "  <tbody>\n",
       "    <tr>\n",
       "      <th>0</th>\n",
       "      <td>Maruti</td>\n",
       "      <td>2014</td>\n",
       "      <td>450000</td>\n",
       "      <td>145500</td>\n",
       "      <td>1.0</td>\n",
       "      <td>1.0</td>\n",
       "      <td>1.0</td>\n",
       "      <td>0.0</td>\n",
       "      <td>23.40</td>\n",
       "      <td>1248</td>\n",
       "      <td>74.00</td>\n",
       "      <td>178.0</td>\n",
       "      <td>5.0</td>\n",
       "      <td>Swift</td>\n",
       "    </tr>\n",
       "    <tr>\n",
       "      <th>1</th>\n",
       "      <td>Skoda</td>\n",
       "      <td>2014</td>\n",
       "      <td>370000</td>\n",
       "      <td>120000</td>\n",
       "      <td>1.0</td>\n",
       "      <td>1.0</td>\n",
       "      <td>1.0</td>\n",
       "      <td>2.0</td>\n",
       "      <td>21.14</td>\n",
       "      <td>1498</td>\n",
       "      <td>103.52</td>\n",
       "      <td>260.0</td>\n",
       "      <td>5.0</td>\n",
       "      <td>Rapid</td>\n",
       "    </tr>\n",
       "    <tr>\n",
       "      <th>2</th>\n",
       "      <td>Honda</td>\n",
       "      <td>2006</td>\n",
       "      <td>158000</td>\n",
       "      <td>140000</td>\n",
       "      <td>3.0</td>\n",
       "      <td>1.0</td>\n",
       "      <td>1.0</td>\n",
       "      <td>4.0</td>\n",
       "      <td>17.70</td>\n",
       "      <td>1497</td>\n",
       "      <td>78.00</td>\n",
       "      <td>66.0</td>\n",
       "      <td>5.0</td>\n",
       "      <td>City</td>\n",
       "    </tr>\n",
       "    <tr>\n",
       "      <th>3</th>\n",
       "      <td>Hyundai</td>\n",
       "      <td>2010</td>\n",
       "      <td>225000</td>\n",
       "      <td>127000</td>\n",
       "      <td>1.0</td>\n",
       "      <td>1.0</td>\n",
       "      <td>1.0</td>\n",
       "      <td>0.0</td>\n",
       "      <td>23.00</td>\n",
       "      <td>1396</td>\n",
       "      <td>90.00</td>\n",
       "      <td>224.0</td>\n",
       "      <td>5.0</td>\n",
       "      <td>i20</td>\n",
       "    </tr>\n",
       "    <tr>\n",
       "      <th>4</th>\n",
       "      <td>Maruti</td>\n",
       "      <td>2007</td>\n",
       "      <td>130000</td>\n",
       "      <td>120000</td>\n",
       "      <td>3.0</td>\n",
       "      <td>1.0</td>\n",
       "      <td>1.0</td>\n",
       "      <td>0.0</td>\n",
       "      <td>16.10</td>\n",
       "      <td>1298</td>\n",
       "      <td>88.20</td>\n",
       "      <td>21.0</td>\n",
       "      <td>5.0</td>\n",
       "      <td>Swift</td>\n",
       "    </tr>\n",
       "  </tbody>\n",
       "</table>\n",
       "</div>"
      ],
      "text/plain": [
       "      name  year  selling_price  km_driven  fuel  seller_type  transmission  \\\n",
       "0   Maruti  2014         450000     145500   1.0          1.0           1.0   \n",
       "1    Skoda  2014         370000     120000   1.0          1.0           1.0   \n",
       "2    Honda  2006         158000     140000   3.0          1.0           1.0   \n",
       "3  Hyundai  2010         225000     127000   1.0          1.0           1.0   \n",
       "4   Maruti  2007         130000     120000   3.0          1.0           1.0   \n",
       "\n",
       "   owner  mileage(kmpl)  engine(CC)  max_power(bhp)  torque  seats  model  \n",
       "0    0.0          23.40        1248           74.00   178.0    5.0  Swift  \n",
       "1    2.0          21.14        1498          103.52   260.0    5.0  Rapid  \n",
       "2    4.0          17.70        1497           78.00    66.0    5.0   City  \n",
       "3    0.0          23.00        1396           90.00   224.0    5.0    i20  \n",
       "4    0.0          16.10        1298           88.20    21.0    5.0  Swift  "
      ]
     },
     "execution_count": 39,
     "metadata": {},
     "output_type": "execute_result"
    }
   ],
   "source": [
    "df.head()"
   ]
  },
  {
   "cell_type": "code",
   "execution_count": null,
   "id": "de096ed3",
   "metadata": {},
   "outputs": [],
   "source": []
  },
  {
   "cell_type": "code",
   "execution_count": 40,
   "id": "b0d4675a",
   "metadata": {},
   "outputs": [
    {
     "data": {
      "image/png": "[encoded data removed]",
      "text/plain": [
       "<Figure size 1080x360 with 1 Axes>"
      ]
     },
     "metadata": {
      "needs_background": "light"
     },
     "output_type": "display_data"
    }
   ],
   "source": [
    "plt.figure(figsize = (15,5))\n",
    "sns.boxplot(data=df)\n",
    "plt.show()"
   ]
  },
  {
   "cell_type": "markdown",
   "id": "64a22f94",
   "metadata": {},
   "source": [
    "from the above boxplot we can see that selling_price has outliers\n"
   ]
  },
  {
   "cell_type": "code",
   "execution_count": 41,
   "id": "ac92f37f",
   "metadata": {},
   "outputs": [
    {
     "name": "stdout",
     "output_type": "stream",
     "text": [
      "Old Shape:  (8127, 14)\n",
      "New Shape:  (7527, 14)\n"
     ]
    }
   ],
   "source": [
    "Q1 = np.percentile(df['selling_price'], 25,\n",
    "                   interpolation = 'midpoint')\n",
    " \n",
    "Q3 = np.percentile(df['selling_price'], 75,\n",
    "                   interpolation = 'midpoint')\n",
    "IQR = Q3 - Q1\n",
    " \n",
    "print(\"Old Shape: \", df.shape)\n",
    " \n",
    "# Upper bound\n",
    "upper = np.where(df['selling_price'] >= (Q3+1.5*IQR))\n",
    "# Lower bound\n",
    "lower = np.where(df['selling_price'] <= (Q1-1.5*IQR))\n",
    " \n",
    "''' Removing the Outliers '''\n",
    "df.drop(upper[0], inplace = True)\n",
    "df.drop(lower[0], inplace = True)\n",
    " \n",
    "print(\"New Shape: \", df.shape)"
   ]
  },
  {
   "cell_type": "code",
   "execution_count": 42,
   "id": "6ddc15da",
   "metadata": {},
   "outputs": [
    {
     "data": {
      "text/html": [
       "<div>\n",
       "<style scoped>\n",
       "    .dataframe tbody tr th:only-of-type {\n",
       "        vertical-align: middle;\n",
       "    }\n",
       "\n",
       "    .dataframe tbody tr th {\n",
       "        vertical-align: top;\n",
       "    }\n",
       "\n",
       "    .dataframe thead th {\n",
       "        text-align: right;\n",
       "    }\n",
       "</style>\n",
       "<table border=\"1\" class=\"dataframe\">\n",
       "  <thead>\n",
       "    <tr style=\"text-align: right;\">\n",
       "      <th></th>\n",
       "      <th>name</th>\n",
       "      <th>year</th>\n",
       "      <th>selling_price</th>\n",
       "      <th>km_driven</th>\n",
       "      <th>fuel</th>\n",
       "      <th>seller_type</th>\n",
       "      <th>transmission</th>\n",
       "      <th>owner</th>\n",
       "      <th>mileage(kmpl)</th>\n",
       "      <th>engine(CC)</th>\n",
       "      <th>max_power(bhp)</th>\n",
       "      <th>torque</th>\n",
       "      <th>seats</th>\n",
       "      <th>model</th>\n",
       "    </tr>\n",
       "  </thead>\n",
       "  <tbody>\n",
       "    <tr>\n",
       "      <th>0</th>\n",
       "      <td>Maruti</td>\n",
       "      <td>2014</td>\n",
       "      <td>450000</td>\n",
       "      <td>145500</td>\n",
       "      <td>1.0</td>\n",
       "      <td>1.0</td>\n",
       "      <td>1.0</td>\n",
       "      <td>0.0</td>\n",
       "      <td>23.40</td>\n",
       "      <td>1248</td>\n",
       "      <td>74.00</td>\n",
       "      <td>178.0</td>\n",
       "      <td>5.0</td>\n",
       "      <td>Swift</td>\n",
       "    </tr>\n",
       "    <tr>\n",
       "      <th>1</th>\n",
       "      <td>Skoda</td>\n",
       "      <td>2014</td>\n",
       "      <td>370000</td>\n",
       "      <td>120000</td>\n",
       "      <td>1.0</td>\n",
       "      <td>1.0</td>\n",
       "      <td>1.0</td>\n",
       "      <td>2.0</td>\n",
       "      <td>21.14</td>\n",
       "      <td>1498</td>\n",
       "      <td>103.52</td>\n",
       "      <td>260.0</td>\n",
       "      <td>5.0</td>\n",
       "      <td>Rapid</td>\n",
       "    </tr>\n",
       "    <tr>\n",
       "      <th>2</th>\n",
       "      <td>Honda</td>\n",
       "      <td>2006</td>\n",
       "      <td>158000</td>\n",
       "      <td>140000</td>\n",
       "      <td>3.0</td>\n",
       "      <td>1.0</td>\n",
       "      <td>1.0</td>\n",
       "      <td>4.0</td>\n",
       "      <td>17.70</td>\n",
       "      <td>1497</td>\n",
       "      <td>78.00</td>\n",
       "      <td>66.0</td>\n",
       "      <td>5.0</td>\n",
       "      <td>City</td>\n",
       "    </tr>\n",
       "    <tr>\n",
       "      <th>3</th>\n",
       "      <td>Hyundai</td>\n",
       "      <td>2010</td>\n",
       "      <td>225000</td>\n",
       "      <td>127000</td>\n",
       "      <td>1.0</td>\n",
       "      <td>1.0</td>\n",
       "      <td>1.0</td>\n",
       "      <td>0.0</td>\n",
       "      <td>23.00</td>\n",
       "      <td>1396</td>\n",
       "      <td>90.00</td>\n",
       "      <td>224.0</td>\n",
       "      <td>5.0</td>\n",
       "      <td>i20</td>\n",
       "    </tr>\n",
       "    <tr>\n",
       "      <th>4</th>\n",
       "      <td>Maruti</td>\n",
       "      <td>2007</td>\n",
       "      <td>130000</td>\n",
       "      <td>120000</td>\n",
       "      <td>3.0</td>\n",
       "      <td>1.0</td>\n",
       "      <td>1.0</td>\n",
       "      <td>0.0</td>\n",
       "      <td>16.10</td>\n",
       "      <td>1298</td>\n",
       "      <td>88.20</td>\n",
       "      <td>21.0</td>\n",
       "      <td>5.0</td>\n",
       "      <td>Swift</td>\n",
       "    </tr>\n",
       "  </tbody>\n",
       "</table>\n",
       "</div>"
      ],
      "text/plain": [
       "      name  year  selling_price  km_driven  fuel  seller_type  transmission  \\\n",
       "0   Maruti  2014         450000     145500   1.0          1.0           1.0   \n",
       "1    Skoda  2014         370000     120000   1.0          1.0           1.0   \n",
       "2    Honda  2006         158000     140000   3.0          1.0           1.0   \n",
       "3  Hyundai  2010         225000     127000   1.0          1.0           1.0   \n",
       "4   Maruti  2007         130000     120000   3.0          1.0           1.0   \n",
       "\n",
       "   owner  mileage(kmpl)  engine(CC)  max_power(bhp)  torque  seats  model  \n",
       "0    0.0          23.40        1248           74.00   178.0    5.0  Swift  \n",
       "1    2.0          21.14        1498          103.52   260.0    5.0  Rapid  \n",
       "2    4.0          17.70        1497           78.00    66.0    5.0   City  \n",
       "3    0.0          23.00        1396           90.00   224.0    5.0    i20  \n",
       "4    0.0          16.10        1298           88.20    21.0    5.0  Swift  "
      ]
     },
     "execution_count": 42,
     "metadata": {},
     "output_type": "execute_result"
    }
   ],
   "source": [
    "df.head()"
   ]
  },
  {
   "cell_type": "code",
   "execution_count": 43,
   "id": "48c98a98",
   "metadata": {},
   "outputs": [
    {
     "data": {
      "text/plain": [
       "(7527, 14)"
      ]
     },
     "execution_count": 43,
     "metadata": {},
     "output_type": "execute_result"
    }
   ],
   "source": [
    "df.shape"
   ]
  },
  {
   "cell_type": "markdown",
   "id": "0c2f42d8",
   "metadata": {},
   "source": [
    "###### Exploratory Data Analysis"
   ]
  },
  {
   "cell_type": "code",
   "execution_count": 44,
   "id": "d5db7699",
   "metadata": {},
   "outputs": [
    {
     "data": {
      "text/plain": [
       "<AxesSubplot:xlabel='year', ylabel='Density'>"
      ]
     },
     "execution_count": 44,
     "metadata": {},
     "output_type": "execute_result"
    },
    {
     "data": {
      "image/png": "[encoded data removed]",
      "text/plain": [
       "<Figure size 432x288 with 1 Axes>"
      ]
     },
     "metadata": {
      "needs_background": "light"
     },
     "output_type": "display_data"
    }
   ],
   "source": [
    "sns.distplot(df['year'])\n"
   ]
  },
  {
   "cell_type": "code",
   "execution_count": 45,
   "id": "a8343839",
   "metadata": {},
   "outputs": [
    {
     "data": {
      "image/png": "[encoded data removed]",
      "text/plain": [
       "<Figure size 432x288 with 1 Axes>"
      ]
     },
     "metadata": {
      "needs_background": "light"
     },
     "output_type": "display_data"
    }
   ],
   "source": [
    "sns.distplot(df['selling_price'])\n",
    "plt.show()"
   ]
  },
  {
   "cell_type": "code",
   "execution_count": 46,
   "id": "4fb3851b",
   "metadata": {},
   "outputs": [
    {
     "data": {
      "image/png": "[encoded data removed]",
      "text/plain": [
       "<Figure size 432x288 with 1 Axes>"
      ]
     },
     "metadata": {
      "needs_background": "light"
     },
     "output_type": "display_data"
    }
   ],
   "source": [
    "sns.distplot(df['km_driven'])\n",
    "plt.show()"
   ]
  },
  {
   "cell_type": "code",
   "execution_count": 47,
   "id": "bf3397e3",
   "metadata": {},
   "outputs": [
    {
     "data": {
      "image/png": "[encoded data removed]",
      "text/plain": [
       "<Figure size 432x288 with 1 Axes>"
      ]
     },
     "metadata": {
      "needs_background": "light"
     },
     "output_type": "display_data"
    }
   ],
   "source": [
    "sns.countplot(data['fuel'])\n",
    "plt.show()"
   ]
  },
  {
   "cell_type": "code",
   "execution_count": 48,
   "id": "3afd1608",
   "metadata": {},
   "outputs": [
    {
     "data": {
      "image/png": "[encoded data removed]",
      "text/plain": [
       "<Figure size 432x288 with 1 Axes>"
      ]
     },
     "metadata": {
      "needs_background": "light"
     },
     "output_type": "display_data"
    }
   ],
   "source": [
    "sns.countplot(data['seller_type'])\n",
    "plt.show()"
   ]
  },
  {
   "cell_type": "code",
   "execution_count": 49,
   "id": "0ffe5f33",
   "metadata": {},
   "outputs": [
    {
     "data": {
      "image/png": "[encoded data removed]",
      "text/plain": [
       "<Figure size 432x288 with 1 Axes>"
      ]
     },
     "metadata": {
      "needs_background": "light"
     },
     "output_type": "display_data"
    }
   ],
   "source": [
    "sns.countplot(data['transmission'])\n",
    "plt.show()"
   ]
  },
  {
   "cell_type": "markdown",
   "id": "df62e1d7",
   "metadata": {},
   "source": [
    "###### Bivarate analysis\n"
   ]
  },
  {
   "cell_type": "code",
   "execution_count": 50,
   "id": "9b52bfbe",
   "metadata": {},
   "outputs": [
    {
     "data": {
      "image/png": "[encoded data removed]",
      "text/plain": [
       "<Figure size 1080x360 with 2 Axes>"
      ]
     },
     "metadata": {
      "needs_background": "light"
     },
     "output_type": "display_data"
    }
   ],
   "source": [
    "fig, (ax1, ax2) = plt.subplots(1,2,figsize = (15,5))\n",
    "\n",
    "#scatter plot 1\n",
    "ax1.scatter(x=df['year'],y= df['selling_price'])\n",
    "ax1.set_title('Years v/s Selling_Price')\n",
    "\n",
    "\n",
    "#scatter plot 2\n",
    "ax2.scatter(x=df['km_driven'],y=df['selling_price'])\n",
    "ax2.set_title('km_driven v/s selling_price')\n",
    "\n",
    "plt.draw()  "
   ]
  },
  {
   "cell_type": "code",
   "execution_count": 51,
   "id": "95ba1d23",
   "metadata": {},
   "outputs": [
    {
     "data": {
      "text/plain": [
       "Text(0.5, 1.0, 'Seller_Type v/s Selling_Price')"
      ]
     },
     "execution_count": 51,
     "metadata": {},
     "output_type": "execute_result"
    },
    {
     "data": {
      "image/png": "[encoded data removed]",
      "text/plain": [
       "<Figure size 1440x864 with 4 Axes>"
      ]
     },
     "metadata": {
      "needs_background": "light"
     },
     "output_type": "display_data"
    }
   ],
   "source": [
    "fig,axes = plt.subplots(2,2,figsize=(20,12))\n",
    "\n",
    "sns.boxplot(x=cars.fuel,y=cars.selling_price,ax=axes[0][0])\n",
    "axes[0][0].set_title('Fuel_Type v/s Selling_Price')\n",
    "\n",
    "sns.boxplot(x=cars.transmission,y=cars.selling_price,ax=axes[0][1])\n",
    "axes[0][1].set_title('Transmission v/s Selling_Price')\n",
    "\n",
    "sns.boxplot(x=cars.owner,y=cars.selling_price,ax=axes[1][0])\n",
    "axes[1][0].set_title('Owner v/s Selling_Price')\n",
    "\n",
    "sns.boxplot(x=cars.seller_type,y=cars.selling_price,ax=axes[1][1])\n",
    "axes[1][1].set_title('Seller_Type v/s Selling_Price')"
   ]
  },
  {
   "cell_type": "markdown",
   "id": "1ff5ecac",
   "metadata": {},
   "source": [
    "###### Multivarate analysis\n"
   ]
  },
  {
   "cell_type": "code",
   "execution_count": 52,
   "id": "7052637f",
   "metadata": {},
   "outputs": [
    {
     "data": {
      "image/png": "[encoded data removed]",
      "text/plain": [
       "<Figure size 720x1080 with 6 Axes>"
      ]
     },
     "metadata": {
      "needs_background": "light"
     },
     "output_type": "display_data"
    }
   ],
   "source": [
    "sns.lmplot(x='km_driven',y='selling_price',data=cars,fit_reg=False,col='transmission',row='seller_type')   \n",
    "plt.show()\n"
   ]
  },
  {
   "cell_type": "code",
   "execution_count": 53,
   "id": "3e7d443f",
   "metadata": {},
   "outputs": [
    {
     "data": {
      "image/png": "[encoded data removed]",
      "text/plain": [
       "<Figure size 720x576 with 2 Axes>"
      ]
     },
     "metadata": {
      "needs_background": "light"
     },
     "output_type": "display_data"
    }
   ],
   "source": [
    "#Heatmap to show the correlation between various variables of the dataset\n",
    "\n",
    "plt.figure(figsize=(10, 8))\n",
    "cor = cars.corr()\n",
    "ax = sns.heatmap(cor,annot=True)\n",
    "bottom, top = ax.get_ylim()\n",
    "ax.set_ylim(bottom + 0.5, top - 0.5)\n",
    "plt.show()"
   ]
  },
  {
   "cell_type": "code",
   "execution_count": 59,
   "id": "fa37030a",
   "metadata": {},
   "outputs": [],
   "source": [
    "from sklearn.preprocessing import OrdinalEncoder\n",
    "ord_enc = OrdinalEncoder()\n",
    "df[\"name\"] = ord_enc.fit_transform(df[[\"name\"]])"
   ]
  },
  {
   "cell_type": "code",
   "execution_count": 60,
   "id": "4c40efee",
   "metadata": {},
   "outputs": [],
   "source": [
    "df1 = df.drop(['model'],axis=1)\n"
   ]
  },
  {
   "cell_type": "code",
   "execution_count": 61,
   "id": "6e2975cb",
   "metadata": {},
   "outputs": [
    {
     "data": {
      "text/html": [
       "<div>\n",
       "<style scoped>\n",
       "    .dataframe tbody tr th:only-of-type {\n",
       "        vertical-align: middle;\n",
       "    }\n",
       "\n",
       "    .dataframe tbody tr th {\n",
       "        vertical-align: top;\n",
       "    }\n",
       "\n",
       "    .dataframe thead th {\n",
       "        text-align: right;\n",
       "    }\n",
       "</style>\n",
       "<table border=\"1\" class=\"dataframe\">\n",
       "  <thead>\n",
       "    <tr style=\"text-align: right;\">\n",
       "      <th></th>\n",
       "      <th>name</th>\n",
       "      <th>year</th>\n",
       "      <th>selling_price</th>\n",
       "      <th>km_driven</th>\n",
       "      <th>fuel</th>\n",
       "      <th>seller_type</th>\n",
       "      <th>transmission</th>\n",
       "      <th>owner</th>\n",
       "      <th>mileage(kmpl)</th>\n",
       "      <th>engine(CC)</th>\n",
       "      <th>max_power(bhp)</th>\n",
       "      <th>torque</th>\n",
       "      <th>seats</th>\n",
       "    </tr>\n",
       "  </thead>\n",
       "  <tbody>\n",
       "    <tr>\n",
       "      <th>0</th>\n",
       "      <td>18.0</td>\n",
       "      <td>2014</td>\n",
       "      <td>450000</td>\n",
       "      <td>145500</td>\n",
       "      <td>1.0</td>\n",
       "      <td>1.0</td>\n",
       "      <td>1.0</td>\n",
       "      <td>0.0</td>\n",
       "      <td>23.40</td>\n",
       "      <td>1248</td>\n",
       "      <td>74.00</td>\n",
       "      <td>178.0</td>\n",
       "      <td>5.0</td>\n",
       "    </tr>\n",
       "    <tr>\n",
       "      <th>1</th>\n",
       "      <td>25.0</td>\n",
       "      <td>2014</td>\n",
       "      <td>370000</td>\n",
       "      <td>120000</td>\n",
       "      <td>1.0</td>\n",
       "      <td>1.0</td>\n",
       "      <td>1.0</td>\n",
       "      <td>2.0</td>\n",
       "      <td>21.14</td>\n",
       "      <td>1498</td>\n",
       "      <td>103.52</td>\n",
       "      <td>260.0</td>\n",
       "      <td>5.0</td>\n",
       "    </tr>\n",
       "    <tr>\n",
       "      <th>2</th>\n",
       "      <td>10.0</td>\n",
       "      <td>2006</td>\n",
       "      <td>158000</td>\n",
       "      <td>140000</td>\n",
       "      <td>3.0</td>\n",
       "      <td>1.0</td>\n",
       "      <td>1.0</td>\n",
       "      <td>4.0</td>\n",
       "      <td>17.70</td>\n",
       "      <td>1497</td>\n",
       "      <td>78.00</td>\n",
       "      <td>66.0</td>\n",
       "      <td>5.0</td>\n",
       "    </tr>\n",
       "    <tr>\n",
       "      <th>3</th>\n",
       "      <td>11.0</td>\n",
       "      <td>2010</td>\n",
       "      <td>225000</td>\n",
       "      <td>127000</td>\n",
       "      <td>1.0</td>\n",
       "      <td>1.0</td>\n",
       "      <td>1.0</td>\n",
       "      <td>0.0</td>\n",
       "      <td>23.00</td>\n",
       "      <td>1396</td>\n",
       "      <td>90.00</td>\n",
       "      <td>224.0</td>\n",
       "      <td>5.0</td>\n",
       "    </tr>\n",
       "    <tr>\n",
       "      <th>4</th>\n",
       "      <td>18.0</td>\n",
       "      <td>2007</td>\n",
       "      <td>130000</td>\n",
       "      <td>120000</td>\n",
       "      <td>3.0</td>\n",
       "      <td>1.0</td>\n",
       "      <td>1.0</td>\n",
       "      <td>0.0</td>\n",
       "      <td>16.10</td>\n",
       "      <td>1298</td>\n",
       "      <td>88.20</td>\n",
       "      <td>21.0</td>\n",
       "      <td>5.0</td>\n",
       "    </tr>\n",
       "  </tbody>\n",
       "</table>\n",
       "</div>"
      ],
      "text/plain": [
       "   name  year  selling_price  km_driven  fuel  seller_type  transmission  \\\n",
       "0  18.0  2014         450000     145500   1.0          1.0           1.0   \n",
       "1  25.0  2014         370000     120000   1.0          1.0           1.0   \n",
       "2  10.0  2006         158000     140000   3.0          1.0           1.0   \n",
       "3  11.0  2010         225000     127000   1.0          1.0           1.0   \n",
       "4  18.0  2007         130000     120000   3.0          1.0           1.0   \n",
       "\n",
       "   owner  mileage(kmpl)  engine(CC)  max_power(bhp)  torque  seats  \n",
       "0    0.0          23.40        1248           74.00   178.0    5.0  \n",
       "1    2.0          21.14        1498          103.52   260.0    5.0  \n",
       "2    4.0          17.70        1497           78.00    66.0    5.0  \n",
       "3    0.0          23.00        1396           90.00   224.0    5.0  \n",
       "4    0.0          16.10        1298           88.20    21.0    5.0  "
      ]
     },
     "execution_count": 61,
     "metadata": {},
     "output_type": "execute_result"
    }
   ],
   "source": [
    "df1.head()"
   ]
  },
  {
   "cell_type": "code",
   "execution_count": 62,
   "id": "05fc368a",
   "metadata": {},
   "outputs": [],
   "source": [
    "y = df1['selling_price']\n",
    "x = df1.drop(['selling_price'],axis=1)"
   ]
  },
  {
   "cell_type": "code",
   "execution_count": 63,
   "id": "5b0f4ce1",
   "metadata": {},
   "outputs": [
    {
     "name": "stdout",
     "output_type": "stream",
     "text": [
      "(5268, 12)\n",
      "(2259, 12)\n",
      "(5268,)\n",
      "(2259,)\n"
     ]
    }
   ],
   "source": [
    "## Train Test split\n",
    "from sklearn.model_selection import train_test_split\n",
    "x_train, x_test, y_train, y_test = train_test_split(x, y, test_size=0.3, random_state=101)\n",
    "print(x_train.shape)\n",
    "print(x_test.shape)\n",
    "print(y_train.shape)\n",
    "print(y_test.shape)"
   ]
  },
  {
   "cell_type": "code",
   "execution_count": 64,
   "id": "a2f7413a",
   "metadata": {},
   "outputs": [],
   "source": [
    "#standardization of the data\n",
    "from sklearn.preprocessing import StandardScaler\n",
    "\n",
    "sc=StandardScaler() \n",
    "x_train=sc.fit_transform(x_train)\n",
    "x_train=pd.DataFrame(x_train,columns=x.columns)\n",
    "\n",
    "x_test=sc.fit_transform(x_test)\n",
    "x_test=pd.DataFrame(x_test,columns=x.columns)"
   ]
  },
  {
   "cell_type": "code",
   "execution_count": 65,
   "id": "da7323f7",
   "metadata": {},
   "outputs": [],
   "source": [
    "from sklearn.linear_model import LinearRegression,Ridge,Lasso\n",
    "from sklearn.neighbors  import KNeighborsRegressor\n",
    "from sklearn.tree import DecisionTreeRegressor\n",
    "from sklearn.ensemble import RandomForestRegressor,GradientBoostingRegressor,AdaBoostRegressor,ExtraTreesRegressor\n",
    "from sklearn.svm import SVR\n",
    "from sklearn import metrics\n",
    "from sklearn.metrics import mean_squared_error,mean_absolute_error,r2_score\n"
   ]
  },
  {
   "cell_type": "code",
   "execution_count": 66,
   "id": "e08111e4",
   "metadata": {},
   "outputs": [],
   "source": [
    "def apply_model(model1):\n",
    "    model = model1\n",
    "    model.fit(x_train, y_train)\n",
    "    y_pred = model.predict(x_test)\n",
    "    mse=mean_squared_error(y_pred,y_test)\n",
    "    mbe=mean_absolute_error(y_test, y_pred)\n",
    "\n",
    "    r2=r2_score(y_pred,y_test)\n",
    "\n",
    "\n",
    "    \n",
    "    print ('Mean Square error is ', mse)\n",
    "    print('Mean Absolute Error:', mbe ) \n",
    "    print('Root Mean Squared Error:', np.sqrt(metrics.mean_squared_error(y_test, y_pred)))\n",
    "    print ('R2 Score is', r2)\n",
    "    "
   ]
  },
  {
   "cell_type": "markdown",
   "id": "07563df5",
   "metadata": {},
   "source": [
    "# Linear Regression\n"
   ]
  },
  {
   "cell_type": "code",
   "execution_count": 67,
   "id": "27f674b3",
   "metadata": {},
   "outputs": [
    {
     "name": "stdout",
     "output_type": "stream",
     "text": [
      "Mean Square error is  82407015855.67917\n",
      "Mean Absolute Error: 150124.5833132818\n",
      "Root Mean Squared Error: 287066.22207372147\n",
      "R2 Score is 0.1972402143818428\n"
     ]
    }
   ],
   "source": [
    "apply_model(LinearRegression())"
   ]
  },
  {
   "cell_type": "markdown",
   "id": "a9ddfb01",
   "metadata": {},
   "source": [
    "# Ridge Regression"
   ]
  },
  {
   "cell_type": "code",
   "execution_count": 68,
   "id": "c01c0737",
   "metadata": {},
   "outputs": [
    {
     "name": "stdout",
     "output_type": "stream",
     "text": [
      "Mean Square error is  82407400409.96794\n",
      "Mean Absolute Error: 150036.43786777812\n",
      "Root Mean Squared Error: 287066.89187359787\n",
      "R2 Score is 0.19532396028253207\n"
     ]
    }
   ],
   "source": [
    "apply_model(Ridge(alpha=10))"
   ]
  },
  {
   "cell_type": "markdown",
   "id": "c86c7abe",
   "metadata": {},
   "source": [
    "# Lasso Regression"
   ]
  },
  {
   "cell_type": "code",
   "execution_count": 69,
   "id": "ae697f6e",
   "metadata": {},
   "outputs": [
    {
     "name": "stdout",
     "output_type": "stream",
     "text": [
      "Mean Square error is  82406482335.88103\n",
      "Mean Absolute Error: 150115.63337075416\n",
      "Root Mean Squared Error: 287065.29280963424\n",
      "R2 Score is 0.1971429777370337\n"
     ]
    }
   ],
   "source": [
    "apply_model(Lasso(alpha=10))"
   ]
  },
  {
   "cell_type": "markdown",
   "id": "d6993609",
   "metadata": {},
   "source": [
    "# K-Neighbors Regression"
   ]
  },
  {
   "cell_type": "code",
   "execution_count": 70,
   "id": "146de415",
   "metadata": {},
   "outputs": [
    {
     "name": "stdout",
     "output_type": "stream",
     "text": [
      "Mean Square error is  35498636504.73307\n",
      "Mean Absolute Error: 88211.93359893758\n",
      "Root Mean Squared Error: 188410.81843867956\n",
      "R2 Score is 0.7651639244054442\n"
     ]
    }
   ],
   "source": [
    "apply_model(KNeighborsRegressor(n_neighbors=2))"
   ]
  },
  {
   "cell_type": "markdown",
   "id": "d079e487",
   "metadata": {},
   "source": [
    "# Decision Tree Regression"
   ]
  },
  {
   "cell_type": "code",
   "execution_count": 71,
   "id": "62e39291",
   "metadata": {},
   "outputs": [
    {
     "name": "stdout",
     "output_type": "stream",
     "text": [
      "Mean Square error is  58612103869.487335\n",
      "Mean Absolute Error: 103543.46471996936\n",
      "Root Mean Squared Error: 242099.36775937135\n",
      "R2 Score is 0.6575763225969924\n"
     ]
    }
   ],
   "source": [
    "apply_model(DecisionTreeRegressor(max_depth=8))"
   ]
  },
  {
   "cell_type": "markdown",
   "id": "7df0af88",
   "metadata": {},
   "source": [
    "# Random Forest Regression"
   ]
  },
  {
   "cell_type": "code",
   "execution_count": 72,
   "id": "1bb4eec0",
   "metadata": {},
   "outputs": [
    {
     "name": "stdout",
     "output_type": "stream",
     "text": [
      "Mean Square error is  25265480311.536404\n",
      "Mean Absolute Error: 80414.52741170318\n",
      "Root Mean Squared Error: 158951.18845587914\n",
      "R2 Score is 0.8098037212871056\n"
     ]
    }
   ],
   "source": [
    "apply_model(RandomForestRegressor(n_estimators=100,\n",
    "                      random_state=3,\n",
    "                      max_samples=0.5,\n",
    "                      max_features=0.75,\n",
    "                      max_depth=15))"
   ]
  },
  {
   "cell_type": "markdown",
   "id": "4ce190fd",
   "metadata": {},
   "source": [
    "# Gradient Boosting Regression"
   ]
  },
  {
   "cell_type": "code",
   "execution_count": 73,
   "id": "a8450b71",
   "metadata": {},
   "outputs": [
    {
     "name": "stdout",
     "output_type": "stream",
     "text": [
      "Mean Square error is  31035624245.006958\n",
      "Mean Absolute Error: 81643.04051845806\n",
      "Root Mean Squared Error: 176169.30562673783\n",
      "R2 Score is 0.7966579229706432\n"
     ]
    }
   ],
   "source": [
    "apply_model(GradientBoostingRegressor(n_estimators=500))"
   ]
  },
  {
   "cell_type": "markdown",
   "id": "f52b468d",
   "metadata": {},
   "source": [
    "# AdaBoost Regression"
   ]
  },
  {
   "cell_type": "code",
   "execution_count": 74,
   "id": "ebf5bf04",
   "metadata": {},
   "outputs": [
    {
     "name": "stdout",
     "output_type": "stream",
     "text": [
      "Mean Square error is  45354058970.665985\n",
      "Mean Absolute Error: 138052.20121179326\n",
      "Root Mean Squared Error: 212964.92427314408\n",
      "R2 Score is 0.5692477943676401\n"
     ]
    }
   ],
   "source": [
    "apply_model(AdaBoostRegressor(n_estimators=15,learning_rate=1.0))"
   ]
  },
  {
   "cell_type": "markdown",
   "id": "a3dafe1e",
   "metadata": {},
   "source": [
    "# ExtraTrees Regression"
   ]
  },
  {
   "cell_type": "code",
   "execution_count": 75,
   "id": "f297c6ac",
   "metadata": {},
   "outputs": [
    {
     "name": "stdout",
     "output_type": "stream",
     "text": [
      "Mean Square error is  20947714815.29576\n",
      "Mean Absolute Error: 71308.93610282226\n",
      "Root Mean Squared Error: 144733.25400645065\n",
      "R2 Score is 0.8503439297783106\n"
     ]
    }
   ],
   "source": [
    "apply_model(ExtraTreesRegressor(n_estimators=100,\n",
    "                      random_state=3,\n",
    "                      max_samples=0.5,\n",
    "                      max_features=0.75,\n",
    "                      max_depth=15))"
   ]
  },
  {
   "cell_type": "markdown",
   "id": "282cd75a",
   "metadata": {},
   "source": [
    "# SVR"
   ]
  },
  {
   "cell_type": "code",
   "execution_count": 76,
   "id": "12a76b9f",
   "metadata": {},
   "outputs": [
    {
     "name": "stdout",
     "output_type": "stream",
     "text": [
      "Mean Square error is  185555603718.35263\n",
      "Mean Absolute Error: 241423.59877985882\n",
      "Root Mean Squared Error: 430761.6553482362\n",
      "R2 Score is -3697214.6369220284\n"
     ]
    }
   ],
   "source": [
    "apply_model(SVR())"
   ]
  },
  {
   "cell_type": "code",
   "execution_count": null,
   "id": "900a62ae",
   "metadata": {},
   "outputs": [],
   "source": []
  },
  {
   "cell_type": "code",
   "execution_count": null,
   "id": "bcf39c53",
   "metadata": {},
   "outputs": [],
   "source": []
  },
  {
   "cell_type": "markdown",
   "id": "a7f73fad",
   "metadata": {},
   "source": [
    "When compared to all models Random Forest regressor is the best model"
   ]
  },
  {
   "cell_type": "markdown",
   "id": "1ab260d3",
   "metadata": {},
   "source": [
    "# Random Forest Regression Model"
   ]
  },
  {
   "cell_type": "code",
   "execution_count": 78,
   "id": "b0022015",
   "metadata": {},
   "outputs": [
    {
     "name": "stdout",
     "output_type": "stream",
     "text": [
      "Mean Absolute Error: 80414.52741170318\n",
      "Mean Square error is  25265480311.536404\n",
      "Root Mean Squared Error: 158951.18845587914\n",
      "R2 Score is 0.8098037212871056\n"
     ]
    }
   ],
   "source": [
    "rf=(RandomForestRegressor(n_estimators=100,\n",
    "                      random_state=3,\n",
    "                      max_samples=0.5,\n",
    "                      max_features=0.75,\n",
    "                      max_depth=15))\n",
    "rf.fit(x_train, y_train)\n",
    "y_pred = rf.predict(x_test)\n",
    "mse=mean_squared_error(y_pred,y_test)\n",
    "mbe=mean_absolute_error(y_test, y_pred)\n",
    "r2=r2_score(y_pred,y_test)\n",
    "\n",
    "print('Mean Absolute Error:', mbe ) \n",
    "\n",
    "print ('Mean Square error is ', mse)\n",
    "print('Root Mean Squared Error:', np.sqrt(metrics.mean_squared_error(y_test, y_pred)))\n",
    "\n",
    "print ('R2 Score is', r2)\n",
    "    "
   ]
  },
  {
   "cell_type": "code",
   "execution_count": 79,
   "id": "a23c0fbf",
   "metadata": {},
   "outputs": [
    {
     "data": {
      "text/html": [
       "<div>\n",
       "<style scoped>\n",
       "    .dataframe tbody tr th:only-of-type {\n",
       "        vertical-align: middle;\n",
       "    }\n",
       "\n",
       "    .dataframe tbody tr th {\n",
       "        vertical-align: top;\n",
       "    }\n",
       "\n",
       "    .dataframe thead th {\n",
       "        text-align: right;\n",
       "    }\n",
       "</style>\n",
       "<table border=\"1\" class=\"dataframe\">\n",
       "  <thead>\n",
       "    <tr style=\"text-align: right;\">\n",
       "      <th></th>\n",
       "      <th>Actual</th>\n",
       "      <th>Predicted</th>\n",
       "    </tr>\n",
       "  </thead>\n",
       "  <tbody>\n",
       "    <tr>\n",
       "      <th>0</th>\n",
       "      <td>229999</td>\n",
       "      <td>1.818853e+05</td>\n",
       "    </tr>\n",
       "    <tr>\n",
       "      <th>1</th>\n",
       "      <td>430000</td>\n",
       "      <td>4.484714e+05</td>\n",
       "    </tr>\n",
       "    <tr>\n",
       "      <th>2</th>\n",
       "      <td>2475000</td>\n",
       "      <td>2.221530e+06</td>\n",
       "    </tr>\n",
       "    <tr>\n",
       "      <th>3</th>\n",
       "      <td>690000</td>\n",
       "      <td>5.487503e+05</td>\n",
       "    </tr>\n",
       "    <tr>\n",
       "      <th>4</th>\n",
       "      <td>400000</td>\n",
       "      <td>4.432034e+05</td>\n",
       "    </tr>\n",
       "    <tr>\n",
       "      <th>...</th>\n",
       "      <td>...</td>\n",
       "      <td>...</td>\n",
       "    </tr>\n",
       "    <tr>\n",
       "      <th>2254</th>\n",
       "      <td>680000</td>\n",
       "      <td>5.643710e+05</td>\n",
       "    </tr>\n",
       "    <tr>\n",
       "      <th>2255</th>\n",
       "      <td>550000</td>\n",
       "      <td>5.606274e+05</td>\n",
       "    </tr>\n",
       "    <tr>\n",
       "      <th>2256</th>\n",
       "      <td>300000</td>\n",
       "      <td>2.620471e+05</td>\n",
       "    </tr>\n",
       "    <tr>\n",
       "      <th>2257</th>\n",
       "      <td>480000</td>\n",
       "      <td>1.078970e+06</td>\n",
       "    </tr>\n",
       "    <tr>\n",
       "      <th>2258</th>\n",
       "      <td>290000</td>\n",
       "      <td>4.458780e+05</td>\n",
       "    </tr>\n",
       "  </tbody>\n",
       "</table>\n",
       "<p>2259 rows × 2 columns</p>\n",
       "</div>"
      ],
      "text/plain": [
       "       Actual     Predicted\n",
       "0      229999  1.818853e+05\n",
       "1      430000  4.484714e+05\n",
       "2     2475000  2.221530e+06\n",
       "3      690000  5.487503e+05\n",
       "4      400000  4.432034e+05\n",
       "...       ...           ...\n",
       "2254   680000  5.643710e+05\n",
       "2255   550000  5.606274e+05\n",
       "2256   300000  2.620471e+05\n",
       "2257   480000  1.078970e+06\n",
       "2258   290000  4.458780e+05\n",
       "\n",
       "[2259 rows x 2 columns]"
      ]
     },
     "execution_count": 79,
     "metadata": {},
     "output_type": "execute_result"
    }
   ],
   "source": [
    "# compare the actual output values for X_test with the predicted values\n",
    "\n",
    "df1 = pd.DataFrame({'Actual': y_test, 'Predicted': y_pred})\n",
    "df1.reset_index(inplace=True,drop=True)\n",
    "df1"
   ]
  },
  {
   "cell_type": "code",
   "execution_count": 80,
   "id": "f683a1f9",
   "metadata": {},
   "outputs": [
    {
     "data": {
      "image/png": "[encoded data removed]",
      "text/plain": [
       "<Figure size 1152x720 with 1 Axes>"
      ]
     },
     "metadata": {
      "needs_background": "light"
     },
     "output_type": "display_data"
    }
   ],
   "source": [
    "#Showing the difference between the actual and predicted value\n",
    "\n",
    "df2 = df1.head(25)\n",
    "df2.plot(kind='bar',figsize=(16,10))\n",
    "plt.grid(which='major', linestyle='-', linewidth='0.9', color='green')\n",
    "plt.grid(which='minor', linestyle=':', linewidth='0.9', color='black')\n",
    "plt.show()"
   ]
  },
  {
   "cell_type": "markdown",
   "id": "b25d3844",
   "metadata": {},
   "source": [
    "# Pickle dump"
   ]
  },
  {
   "cell_type": "code",
   "execution_count": 81,
   "id": "86c396a5",
   "metadata": {},
   "outputs": [],
   "source": [
    "import pickle"
   ]
  },
  {
   "cell_type": "markdown",
   "id": "8c95026c",
   "metadata": {},
   "source": [
    "### Exporting the model"
   ]
  },
  {
   "cell_type": "code",
   "execution_count": 83,
   "id": "e90363e6",
   "metadata": {},
   "outputs": [],
   "source": [
    "pickle.dump(rf,open('rf models.pkl','wb'))\n"
   ]
  },
  {
   "cell_type": "code",
   "execution_count": null,
   "id": "6c540c1e",
   "metadata": {},
   "outputs": [],
   "source": []
  }
 ],
 "metadata": {
  "kernelspec": {
   "display_name": "Python 3 (ipykernel)",
   "language": "python",
   "name": "python3"
  },
  "language_info": {
   "codemirror_mode": {
    "name": "ipython",
    "version": 3
   },
   "file_extension": ".py",
   "mimetype": "text/x-python",
   "name": "python",
   "nbconvert_exporter": "python",
   "pygments_lexer": "ipython3",
   "version": "3.9.7"
  }
 },
 "nbformat": 4,
 "nbformat_minor": 5
}
